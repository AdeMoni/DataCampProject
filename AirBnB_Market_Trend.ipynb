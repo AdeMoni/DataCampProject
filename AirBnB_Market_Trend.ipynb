{
 "cells": [
  {
   "cell_type": "code",
   "execution_count": 31,
   "metadata": {},
   "outputs": [],
   "source": [
    "# Import necessary packages\n",
    "import pandas as pd\n",
    "\n",
    "# Import all files\n",
    "airbnb_price = pd.read_csv('./datasets/airbnb_dataset/airbnb_price.csv')\n",
    "airbnb_room = pd.read_excel('./datasets/airbnb_dataset/airbnb_room_type.xlsx')\n",
    "airbnb_reviews = pd.read_csv('./datasets/airbnb_dataset/airbnb_last_review.tsv', sep='\\t')\n",
    "\n",
    "# Merge all files\n",
    "listings = pd.merge(airbnb_price, airbnb_room, on='listing_id')\n",
    "listings = pd.merge(listings, airbnb_reviews, on='listing_id')"
   ]
  },
  {
   "cell_type": "code",
   "execution_count": 32,
   "metadata": {},
   "outputs": [
    {
     "name": "stdout",
     "output_type": "stream",
     "text": [
      "The first review was entered on 2019-01-01 00:00:00, while the last review was on 2019-07-09 00:00:00\n"
     ]
    }
   ],
   "source": [
    "# Dates of the earliest and most recent reviews\n",
    "listings['last_review'] = pd.to_datetime(listings['last_review'], format='%B %d %Y')\n",
    "first_review = listings['last_review'].min()\n",
    "lastest_review = listings['last_review'].max()\n",
    "\n",
    "print('The first review was entered on {}, while the last review was on {}'.format(first_review, lastest_review))"
   ]
  },
  {
   "cell_type": "code",
   "execution_count": 33,
   "metadata": {},
   "outputs": [
    {
     "name": "stdout",
     "output_type": "stream",
     "text": [
      "11356\n"
     ]
    }
   ],
   "source": [
    "# Number of listings that are private rooms\n",
    "listings['room_type'] = listings['room_type'].str.lower()\n",
    "private_listings = listings[listings['room_type'] == 'private room'].shape[0]\n",
    "print(private_listings)"
   ]
  },
  {
   "cell_type": "code",
   "execution_count": 34,
   "metadata": {},
   "outputs": [
    {
     "name": "stdout",
     "output_type": "stream",
     "text": [
      "141.78\n"
     ]
    }
   ],
   "source": [
    "# Average listing price\n",
    "listings['price'] = listings['price'].str.strip('dollars').astype('int')\n",
    "average_listing = listings['price'].mean().round(2)\n",
    "print(average_listing)"
   ]
  },
  {
   "cell_type": "code",
   "execution_count": 35,
   "metadata": {},
   "outputs": [
    {
     "name": "stdout",
     "output_type": "stream",
     "text": [
      "  first_reviewed last_reviewed  nb_private_rooms  avg_price\n",
      "0     2019-01-01    2019-07-09             11356     141.78\n"
     ]
    }
   ],
   "source": [
    "# Combine all the values into a DataFrame\n",
    "review_dates = pd.DataFrame({'first_reviewed':[first_review],\n",
    "                             'last_reviewed':[lastest_review],\n",
    "                             'nb_private_rooms':[private_listings],\n",
    "                             'avg_price':[average_listing]})\n",
    "\n",
    "print(review_dates)"
   ]
  }
 ],
 "metadata": {
  "kernelspec": {
   "display_name": "ade_env",
   "language": "python",
   "name": "python3"
  },
  "language_info": {
   "codemirror_mode": {
    "name": "ipython",
    "version": 3
   },
   "file_extension": ".py",
   "mimetype": "text/x-python",
   "name": "python",
   "nbconvert_exporter": "python",
   "pygments_lexer": "ipython3",
   "version": "3.12.4"
  }
 },
 "nbformat": 4,
 "nbformat_minor": 2
}
